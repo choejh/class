{
 "cells": [
  {
   "cell_type": "code",
   "execution_count": 16,
   "metadata": {},
   "outputs": [
    {
     "name": "stdout",
     "output_type": "stream",
     "text": [
      "['AA', 'BB', 'CC']\n",
      "\n",
      "<enumerate object at 0x000002D9357A9340>\n",
      "[(0, 'AA'), (1, 'BB'), (2, 'CC')]\n",
      "0 AA\n",
      "\n",
      "0 AA\n",
      "1 BB\n",
      "2 CC\n"
     ]
    }
   ],
   "source": [
    "list_ex=['AA','BB','CC']\n",
    "\n",
    "#list_ex 출력\n",
    "print(list_ex)\n",
    "print()\n",
    "\n",
    "#list_ex -> ennumerate() : 요소들의 index를 사용하기 위해 enumerate객체로 변환\n",
    "list_ex_en = enumerate(list_ex)\n",
    "print(list_ex_en)\n",
    "\n",
    "#enumerate 객체 -> list 객체\n",
    "list_ex2 = list(list_ex_en)\n",
    "print(list_ex2)\n",
    "\n",
    "#변수의 초기화(할당)\n",
    "i,v = list_ex2[0]\n",
    "print(i, v)\n",
    "\n",
    "print()\n",
    "\n",
    "for i, v in list_ex2:\n",
    "    print(i, v)\n"
   ]
  },
  {
   "cell_type": "code",
   "execution_count": 25,
   "metadata": {},
   "outputs": [
    {
     "name": "stdout",
     "output_type": "stream",
     "text": [
      "{'name': '메시', 'number': 10, 'team': 'FCB'}\n",
      "\n",
      "dict_items([('name', '메시'), ('number', 10), ('team', 'FCB')])\n",
      "\n",
      "name : 메시\n",
      "number : 10\n",
      "team : FCB\n"
     ]
    }
   ],
   "source": [
    "#dic의 속성을 일괄처리 \n",
    "#item(): dic의 속성과 값을 하나로 묶어 요소를 만들고 이 요소들을 가지는\n",
    "#리스트를 반환\n",
    "\n",
    "dic_player = {\n",
    "    'name': '메시',\n",
    "    'number': 10,\n",
    "    'team': 'FCB'\n",
    "}\n",
    "\n",
    "print(dic_player)\n",
    "print()\n",
    "\n",
    "# dic -> list\n",
    "list_player_att = dic_player.items()\n",
    "print(list_player_att)\n",
    "print()\n",
    "for key, value in list_player_att:\n",
    "    print(key, ':', value)"
   ]
  },
  {
   "cell_type": "code",
   "execution_count": 33,
   "metadata": {},
   "outputs": [
    {
     "name": "stdout",
     "output_type": "stream",
     "text": [
      "[0, 4, 16, 36, 64, 100, 144, 196, 256, 324]\n",
      "\n",
      "[0, 4, 16, 36, 64, 100, 144, 196, 256, 324]\n",
      "\n",
      "[144, 196, 256, 324]\n"
     ]
    }
   ],
   "source": [
    "#list 요소 생성\n",
    "#1\n",
    "array=[]\n",
    "for i in range(0,20,2): # 0부터 2씩 증가\n",
    "    array.append(i*i)\n",
    "    \n",
    "print(array)\n",
    "print()\n",
    "\n",
    "#2\n",
    "\n",
    "array2 = [i*i for i in range(0,20,2)]\n",
    "print(array2)\n",
    "print()\n",
    "#3\n",
    "array3 = [i for i in array2 if i > 100]\n",
    "print(array3)"
   ]
  },
  {
   "cell_type": "code",
   "execution_count": 35,
   "metadata": {},
   "outputs": [
    {
     "name": "stdout",
     "output_type": "stream",
     "text": [
      "a\n",
      "b\n",
      "c\n"
     ]
    }
   ],
   "source": [
    "#함수 정의\n",
    "#def 함수 이름(매개변수, 매개변수 ... )\n",
    "def print_3_times():\n",
    "    print('a')\n",
    "    print('b')\n",
    "    print('c')\n",
    "\n",
    "print_3_times()"
   ]
  },
  {
   "cell_type": "code",
   "execution_count": 40,
   "metadata": {},
   "outputs": [
    {
     "name": "stdout",
     "output_type": "stream",
     "text": [
      "반복된다\n",
      "반복된다\n",
      "반복된다\n",
      "함수의 기능 실행 완료\n"
     ]
    }
   ],
   "source": [
    "def print_n_times(val, n):\n",
    "    for i in range(n):\n",
    "        print(val)\n",
    "    print('함수의 기능 실행 완료')\n",
    "\n",
    "print_n_times('반복된다',3)\n",
    "\n",
    "#print_n_times('Python','five') # ERROR\n",
    "\n"
   ]
  },
  {
   "cell_type": "code",
   "execution_count": 42,
   "metadata": {},
   "outputs": [
    {
     "name": "stdout",
     "output_type": "stream",
     "text": [
      "hi~\n",
      "funny\n",
      "Python programming\n",
      "\n",
      "hi~\n",
      "funny\n",
      "Python programming\n",
      "\n",
      "hi~\n",
      "funny\n",
      "Python programming\n",
      "\n",
      "함수 종료\n"
     ]
    }
   ],
   "source": [
    "#함수의 가변 매개변수\n",
    "def print_times(n, *vals):\n",
    "    for i in range(n):\n",
    "        for val in vals:\n",
    "            print(val)\n",
    "        print()\n",
    "    print('함수 종료')\n",
    "\n",
    "print_times(3,'hi~','funny', 'Python programming')        \n",
    "            \n",
    "    "
   ]
  },
  {
   "cell_type": "code",
   "execution_count": 49,
   "metadata": {},
   "outputs": [
    {
     "name": "stdout",
     "output_type": "stream",
     "text": [
      "aa bb cc\taa/bb/cc\taa:bb:cc\n"
     ]
    }
   ],
   "source": [
    "# 기본 매개변수\n",
    "# print -> sep='',end='\\n', file=sys.stdout, flush=False\n",
    "print('aa','bb','cc', end='\\t')\n",
    "print('aa','bb','cc', sep='/', end='\\t')\n",
    "print('aa','bb','cc',sep=':')\n"
   ]
  },
  {
   "cell_type": "code",
   "execution_count": 53,
   "metadata": {},
   "outputs": [
    {
     "name": "stdout",
     "output_type": "stream",
     "text": [
      "hi~\n",
      "funny\n",
      "Python programming\n",
      "\n",
      "hi~\n",
      "funny\n",
      "Python programming\n",
      "\n",
      "hi~\n",
      "funny\n",
      "Python programming\n",
      "\n",
      "함수 종료\n"
     ]
    }
   ],
   "source": [
    "#함수의 가변 매개변수\n",
    "def print_times(*vals, n=2):\n",
    "    for i in range(n):\n",
    "        for val in vals:\n",
    "            print(val)\n",
    "        print()\n",
    "    print('함수 종료')\n",
    "\n",
    "print_times('hi~','funny', 'Python programming', n=3)"
   ]
  },
  {
   "cell_type": "code",
   "execution_count": 56,
   "metadata": {},
   "outputs": [
    {
     "name": "stdout",
     "output_type": "stream",
     "text": [
      "10\n"
     ]
    }
   ],
   "source": [
    "#함수의 return\n",
    "def func():\n",
    "    return 10\n",
    "\n",
    "print(func())"
   ]
  },
  {
   "cell_type": "code",
   "execution_count": 62,
   "metadata": {},
   "outputs": [
    {
     "name": "stdout",
     "output_type": "stream",
     "text": [
      "10 20 30 40 50 60\n",
      "10 20\n",
      "20 10\n"
     ]
    }
   ],
   "source": [
    "#튜플\n",
    "\n",
    "[a,b]=[10,20]\n",
    "(c,d)=(30,40) #리스트의 경우, 요소들을 자유롭게 삽입, 삭제, 변경이 가능하나 튜플은 불가능합니다.\n",
    "e,f=(50,60)\n",
    "print(a,b,c,d,e,f)\n",
    "\n",
    "a,b = 10, 20\n",
    "print(a,b)\n",
    "a,b = b,a\n",
    "print(a,b)"
   ]
  },
  {
   "cell_type": "code",
   "execution_count": 70,
   "metadata": {},
   "outputs": [
    {
     "name": "stdout",
     "output_type": "stream",
     "text": [
      "<map object at 0x000002D935B38400>\n",
      "[1, 4, 9, 16, 25]\n",
      "<filter object at 0x000002D935D87DF0>\n",
      "[1, 2]\n"
     ]
    }
   ],
   "source": [
    "def power(item):\n",
    "    return item*item\n",
    "\n",
    "def under_3(item):\n",
    "    return item<3\n",
    "\n",
    "list_a = [1,2,3,4,5]\n",
    "\n",
    "#map()이용해서 리스트 생성\n",
    "output_a = map(power, list_a)\n",
    "#lambda를 이용한 함수 정의\n",
    "output_a = map(lambda x: x*x, list_a)\n",
    "#공통\n",
    "print(output_a)\n",
    "output_list_a = list(output_a)\n",
    "print(output_list_a)\n",
    "\n",
    "\n",
    "#filter\n",
    "#output_b = filter(under_3, list_a)\n",
    "output_b = filter(lambda x: x<3, list_a)\n",
    "print(output_b)\n",
    "output_list_b = list(output_b)\n",
    "print(output_list_b)"
   ]
  },
  {
   "cell_type": "code",
   "execution_count": 71,
   "metadata": {},
   "outputs": [],
   "source": [
    "#open(): 파일 I/O 처리할때 사용\n",
    "file = open('basic.txt','w')\n",
    "file.write('Hello~Python!!')\n",
    "file.close()"
   ]
  },
  {
   "cell_type": "code",
   "execution_count": 74,
   "metadata": {},
   "outputs": [],
   "source": [
    "#with : open()함수 사용 후 close()함수를 자동으로 호출\n",
    "\n",
    "with open('basic.txt','w') as file:\n",
    "    file.write('Hi~Python!') #안에 내용을 대체하네 "
   ]
  },
  {
   "cell_type": "code",
   "execution_count": 75,
   "metadata": {},
   "outputs": [
    {
     "name": "stdout",
     "output_type": "stream",
     "text": [
      "<class 'str'>\n",
      "Hi~Python!\n"
     ]
    }
   ],
   "source": [
    "#read(): 파일의 내용 텍스트 읽기\n",
    "with open('basic.txt','r') as file:\n",
    "    content= file.read()\n",
    "    print(type(content))\n",
    "    print(content)"
   ]
  },
  {
   "cell_type": "code",
   "execution_count": 92,
   "metadata": {},
   "outputs": [
    {
     "name": "stdout",
     "output_type": "stream",
     "text": [
      "['한', '서', '강', '우', '인', '고', '차', '채', '이', '민', '지', '연', '진', '오', '장', '안', '혜']\n"
     ]
    }
   ],
   "source": [
    "import random\n",
    "han = list('한서강우인고차채이민지연진오장안혜')\n",
    "print(han)\n",
    "with open('info.txt','w') as file:\n",
    "    \n",
    "    for i in range(100):\n",
    "        name= random.choice(han) + random.choice(han) +random.choice(han)\n",
    "        weight = random.randrange(40,100)\n",
    "        height = random.randrange(140,200)\n",
    "        file.write(\"{},{},{}\\n\".format(name,weight,height))\n",
    "    "
   ]
  },
  {
   "cell_type": "code",
   "execution_count": 117,
   "metadata": {},
   "outputs": [
    {
     "name": "stdout",
     "output_type": "stream",
     "text": [
      "지고장,92,144,92.0,과체중\n",
      "안고안,65,178,65.0,과체중\n",
      "민고차,69,181,69.0,과체중\n",
      "혜한고,84,162,84.0,과체중\n",
      "안인고,72,145,72.0,과체중\n",
      "혜진민,57,166,57.00000000000001,과체중\n",
      "인오인,92,142,92.00000000000001,과체중\n",
      "민혜장,70,197,70.0,과체중\n",
      "고연인,78,193,78.0,과체중\n",
      "오혜연,59,153,59.0,과체중\n",
      "연이차,86,152,86.0,과체중\n",
      "민고안,78,165,78.0,과체중\n",
      "오안장,45,188,45.0,과체중\n",
      "차진지,81,172,81.0,과체중\n",
      "혜고민,89,187,89.0,과체중\n",
      "연차혜,81,179,81.0,과체중\n",
      "채서연,63,187,63.0,과체중\n",
      "민채채,59,160,59.0,과체중\n",
      "인채혜,89,178,89.0,과체중\n",
      "혜민서,50,187,50.0,과체중\n",
      "민혜한,57,166,57.00000000000001,과체중\n",
      "서강진,61,165,60.99999999999999,과체중\n",
      "강안안,48,155,48.0,과체중\n",
      "우강채,80,198,80.0,과체중\n",
      "지지인,82,166,82.0,과체중\n",
      "우인우,55,160,55.0,과체중\n",
      "혜진연,81,179,81.0,과체중\n",
      "지오한,43,164,43.0,과체중\n",
      "오고인,69,168,69.0,과체중\n",
      "오인혜,50,155,50.0,과체중\n",
      "이우민,72,172,72.0,과체중\n",
      "이부분 잘 이해가 안간다\n"
     ]
    }
   ],
   "source": [
    "with open('info.txt','r') as file:\n",
    "    \n",
    "    cnt=0\n",
    "    \n",
    "    for line in file :\n",
    "        \n",
    "        if cnt > 30 :\n",
    "            break\n",
    "        #print(line.strip())\n",
    "        #cnt +=1\n",
    "        \n",
    "        name, weight, height = line.strip().split(',')\n",
    "        \n",
    "        #변수의 값의 유무를 확인하고 값을 처리하지 않는 처리\n",
    "        if (not name) or (not weight) or (not height):\n",
    "            continue\n",
    "        \n",
    "        #비만도 계산\n",
    "        bmi = int(weight)/100 / (int(height)/100)*(int(height)/100)\n",
    "        \n",
    "        result= ''\n",
    "        if bmi >=25 : \n",
    "            result = '과체중'\n",
    "        elif bmi >=18.5 :\n",
    "            result = '정상체중'\n",
    "        else:\n",
    "            result= \"저체중\"\n",
    "        \n",
    "        cnt+=1\n",
    "        \n",
    "        print('{},{},{},{},{}'.format(name,weight,height,bmi,result))\n",
    "        \n",
    "print('이부분 잘 이해가 안간다')"
   ]
  }
 ],
 "metadata": {
  "kernelspec": {
   "display_name": "Python 3",
   "language": "python",
   "name": "python3"
  },
  "language_info": {
   "codemirror_mode": {
    "name": "ipython",
    "version": 3
   },
   "file_extension": ".py",
   "mimetype": "text/x-python",
   "name": "python",
   "nbconvert_exporter": "python",
   "pygments_lexer": "ipython3",
   "version": "3.8.5"
  }
 },
 "nbformat": 4,
 "nbformat_minor": 4
}
