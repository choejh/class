{
 "cells": [
  {
   "cell_type": "code",
   "execution_count": 6,
   "metadata": {},
   "outputs": [
    {
     "name": "stdout",
     "output_type": "stream",
     "text": [
      "정수를 입력 해주세요 >>ㅇㅇ\n",
      "예외 발생~!\n"
     ]
    }
   ],
   "source": [
    "try:\n",
    "    number_input_a=int(input('정수를 입력 해주세요 >>'))\n",
    "    print(\"제곱의 연산결과:\",number_input_a*number_input_a)\n",
    "except: #어떠한 예외던 이곳에서 처리\n",
    "    print('예외 발생~!')"
   ]
  },
  {
   "cell_type": "code",
   "execution_count": 8,
   "metadata": {},
   "outputs": [
    {
     "name": "stdout",
     "output_type": "stream",
     "text": [
      "정수를 입력 해주세요 >>dㅇㅇ\n"
     ]
    }
   ],
   "source": [
    "try:\n",
    "    number_input_a=int(input('정수를 입력 해주세요 >>'))\n",
    "    print(\"제곱의 연산결과:\",number_input_a*number_input_a)\n",
    "except: #어떠한 예외던 이곳에서 처리\n",
    "    pass #처리할 내용이 없을 때 기술"
   ]
  },
  {
   "cell_type": "code",
   "execution_count": 12,
   "metadata": {},
   "outputs": [
    {
     "name": "stdout",
     "output_type": "stream",
     "text": [
      "예외 발생~!\n",
      "정수를 입력 해주세요 >>ㅇㅇ]\\\n"
     ]
    }
   ],
   "source": [
    "#가독성이 좋음(try~except~else)\n",
    "try:\n",
    "    #예외 발생 예상 코드\n",
    "    number_input_a=int(input('정수를 입력 해주세요 >>'))\n",
    "except: #어떠한 예외던 이곳에서 처리\n",
    "    print('예외 발생~!')\n",
    "else:\n",
    "    #예외가 발생하지 않았을 때 처리 구문\n",
    "    print(\"제곱의 연산결과:\",number_input_a*number_input_a)"
   ]
  },
  {
   "cell_type": "code",
   "execution_count": 21,
   "metadata": {},
   "outputs": [
    {
     "name": "stdout",
     "output_type": "stream",
     "text": [
      "정수를 입력 해주세요 >>23\n",
      "제곱의 연산결과: 529\n",
      "프로그램을 종료합니다.\n"
     ]
    }
   ],
   "source": [
    "#try~except~else~finally\n",
    "try:\n",
    "    #예외 발생 예상 코드\n",
    "    number_input_a=int(input('정수를 입력 해주세요 >>'))\n",
    "except: #어떠한 예외던 이곳에서 처리\n",
    "    print('예외 발생~!')\n",
    "else:\n",
    "    #예외가 발생하지 않았을 때 처리 구문\n",
    "    print(\"제곱의 연산결과:\",number_input_a*number_input_a)\n",
    "finally:\n",
    "    print('프로그램을 종료합니다.')"
   ]
  },
  {
   "cell_type": "code",
   "execution_count": 25,
   "metadata": {},
   "outputs": [
    {
     "name": "stdout",
     "output_type": "stream",
     "text": [
      "정수를 입력 해주세요 >>ㅇ\n",
      "예외가 발생했습니다\n",
      "<class 'ValueError'>\n",
      "invalid literal for int() with base 10: 'ㅇ'\n",
      "프로그램을 종료합니다.\n"
     ]
    }
   ],
   "source": [
    "#try~except~else~finally\n",
    "try:\n",
    "    #예외 발생 예상 코드\n",
    "    number_input_a=int(input('정수를 입력 해주세요 >>'))\n",
    "except Exception as e: #어떠한 예외던 이곳에서 처리\n",
    "    print('예외가 발생했습니다')\n",
    "    print(type(e))\n",
    "    print(e)\n",
    "else:\n",
    "    #예외가 발생하지 않았을 때 처리 구문\n",
    "    print(\"제곱의 연산결과:\",number_input_a*number_input_a)\n",
    "finally:\n",
    "    print('프로그램을 종료합니다.')"
   ]
  },
  {
   "cell_type": "code",
   "execution_count": 33,
   "metadata": {},
   "outputs": [
    {
     "name": "stdout",
     "output_type": "stream",
     "text": [
      "리스트의 index를 입력하세요.>>22\n",
      "리스트의 범위를 벗어난 인덱스 값입니다.\n",
      "list index out of range\n"
     ]
    }
   ],
   "source": [
    "list_a = [10,20,30,40,50]\n",
    "\n",
    "try:\n",
    "    idx = int(input('리스트의 index를 입력하세요.>>'))\n",
    "    print('{}번째 요소의 값은: {}'.format(idx,list_a[idx]))\n",
    "except ValueError as ve:\n",
    "    print('숫자만 입력하세요')\n",
    "    print(ve)\n",
    "except IndexError as ie:\n",
    "    print('리스트의 범위를 벗어난 인덱스 값입니다.')\n",
    "    print(ie)"
   ]
  },
  {
   "cell_type": "code",
   "execution_count": null,
   "metadata": {},
   "outputs": [],
   "source": []
  },
  {
   "cell_type": "code",
   "execution_count": null,
   "metadata": {},
   "outputs": [],
   "source": []
  }
 ],
 "metadata": {
  "kernelspec": {
   "display_name": "Python 3",
   "language": "python",
   "name": "python3"
  },
  "language_info": {
   "codemirror_mode": {
    "name": "ipython",
    "version": 3
   },
   "file_extension": ".py",
   "mimetype": "text/x-python",
   "name": "python",
   "nbconvert_exporter": "python",
   "pygments_lexer": "ipython3",
   "version": "3.8.5"
  }
 },
 "nbformat": 4,
 "nbformat_minor": 4
}
