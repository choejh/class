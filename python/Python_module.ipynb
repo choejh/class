{
 "cells": [
  {
   "cell_type": "code",
   "execution_count": 1,
   "metadata": {},
   "outputs": [],
   "source": [
    "# module은 내장 module과 외부 module로 구분\n",
    "# 내장 module은 Python 내부에서 제공해주는 모듈\n",
    "# 외부 module은 사용자(프로그래머)가 설치해서 사용하는 모듈"
   ]
  },
  {
   "cell_type": "code",
   "execution_count": 4,
   "metadata": {},
   "outputs": [
    {
     "name": "stdout",
     "output_type": "stream",
     "text": [
      "3.141592653589793\n",
      "123\n"
     ]
    }
   ],
   "source": [
    "import math\n",
    "\n",
    "#math\n",
    "print(math.pi)\n",
    "print(math.floor(123.456)) #절사"
   ]
  },
  {
   "cell_type": "code",
   "execution_count": 6,
   "metadata": {},
   "outputs": [
    {
     "name": "stdout",
     "output_type": "stream",
     "text": [
      "123\n"
     ]
    }
   ],
   "source": [
    "# math모듈에서 floor 함수만 로드\n",
    "from math import floor\n",
    "\n",
    "print(floor(123.456))"
   ]
  },
  {
   "cell_type": "code",
   "execution_count": 8,
   "metadata": {},
   "outputs": [
    {
     "name": "stdout",
     "output_type": "stream",
     "text": [
      "123\n"
     ]
    }
   ],
   "source": [
    "#로드하는 모듈의 별칭 정의\n",
    "import math as m\n",
    "print(m.floor(123.456))"
   ]
  },
  {
   "cell_type": "code",
   "execution_count": 88,
   "metadata": {},
   "outputs": [
    {
     "name": "stdout",
     "output_type": "stream",
     "text": [
      "random.random() :  0.6460646777747727\n",
      "random.uniform(10,20): 11.14007544487037\n",
      "random.randrange(20): 5\n",
      "random.randrange(10,20): 12\n",
      "random.choice(list_a): 2\n",
      "None\n",
      "[5, 4, 1]\n"
     ]
    }
   ],
   "source": [
    "# 난수 발생 모듈\n",
    "import random\n",
    "\n",
    "# random()\n",
    "print('random.random() : ',random.random())\n",
    "print('random.uniform(10,20):', random.uniform(10,20))\n",
    "\n",
    "print('random.randrange(20):',random.randrange(20))\n",
    "print('random.randrange(10,20):',random.randrange(10,20)) #(시작값,종료값) 정수 랜덤\n",
    "\n",
    "list_a = [1,2,3,4,5]\n",
    "print('random.choice(list_a):',random.choice(list_a))\n",
    "list_b = random.shuffle(list_a)\n",
    "print(list_b)\n",
    "\n",
    "print(random.sample(list_a, k=3))"
   ]
  },
  {
   "cell_type": "code",
   "execution_count": 96,
   "metadata": {},
   "outputs": [
    {
     "name": "stdout",
     "output_type": "stream",
     "text": [
      "['C:\\\\Users\\\\choejihye\\\\anaconda3\\\\lib\\\\site-packages\\\\ipykernel_launcher.py', '-f', 'C:\\\\Users\\\\choejihye\\\\AppData\\\\Roaming\\\\jupyter\\\\runtime\\\\kernel-adb54ebf-de63-408a-ac65-5d23d2044eb9.json']\n",
      "sys.getwindowsversion(major=10, minor=0, build=19042, platform=2, service_pack='')\n",
      "Copyright (c) 2001-2020 Python Software Foundation.\n",
      "All Rights Reserved.\n",
      "\n",
      "Copyright (c) 2000 BeOpen.com.\n",
      "All Rights Reserved.\n",
      "\n",
      "Copyright (c) 1995-2001 Corporation for National Research Initiatives.\n",
      "All Rights Reserved.\n",
      "\n",
      "Copyright (c) 1991-1995 Stichting Mathematisch Centrum, Amsterdam.\n",
      "All Rights Reserved.\n",
      "3.8.5 (default, Sep  3 2020, 21:29:08) [MSC v.1916 64 bit (AMD64)]\n"
     ]
    },
    {
     "ename": "SystemExit",
     "evalue": "",
     "output_type": "error",
     "traceback": [
      "An exception has occurred, use %tb to see the full traceback.\n",
      "\u001b[1;31mSystemExit\u001b[0m\n"
     ]
    }
   ],
   "source": [
    "import sys\n",
    "print(sys.argv)\n",
    "print(sys.getwindowsversion())\n",
    "print(sys.copyright)\n",
    "print(sys.version)\n",
    "sys.exit()"
   ]
  },
  {
   "cell_type": "code",
   "execution_count": 115,
   "metadata": {},
   "outputs": [
    {
     "name": "stdout",
     "output_type": "stream",
     "text": [
      "nt\n",
      "os.getcwd(): C:\\Users\\choejihye\\Documents\\GitHub\\class\\python\n",
      "os.listdir(): ['.ipynb_checkpoints', 'basic.txt', 'first.py', 'firstPython.ipynb', 'info.txt', 'newname.txt', 'Python_Exception.ipynb', 'Python_flow_control.ipynb', 'Python_function.ipynb', 'Python_module.ipynb', 'Python_val_type.ipynb']\n"
     ]
    },
    {
     "data": {
      "text/plain": [
       "0"
      ]
     },
     "execution_count": 115,
     "metadata": {},
     "output_type": "execute_result"
    }
   ],
   "source": [
    "import os\n",
    "print(os.name)\n",
    "print('os.getcwd():',os.getcwd())\n",
    "print('os.listdir():',os.listdir()) #폴더 안에 있는 내용물\n",
    "#os.mkdir('test') #test라는 폴더 생성\n",
    "#os.rmdir('test') #test 폴터 삭제\n",
    "#with open('test.txt','w') as file:\n",
    "    #file.write('test') \n",
    "    \n",
    "#os.rename('test.txt','newname.txt') #이름바꾸기\n",
    "\n",
    "os.system('dir/w')"
   ]
  },
  {
   "cell_type": "code",
   "execution_count": 141,
   "metadata": {},
   "outputs": [
    {
     "name": "stdout",
     "output_type": "stream",
     "text": [
      "현재 시간 구하기\n",
      "2021.2.9.11:14:54\n",
      "\n",
      "2021-02-09 11:14:54.680799\n",
      "2021.02.10.12:15\n",
      "2022-02-09 11:14:54.680799\n",
      "0\n",
      "1\n",
      "2\n",
      "3\n",
      "4\n",
      "프로그램 종료\n"
     ]
    }
   ],
   "source": [
    "import datetime\n",
    "print('현재 시간 구하기')\n",
    "now = datetime.datetime.now()\n",
    "print(now.year, end=\".\")\n",
    "print(now.month, end=\".\")\n",
    "print(now.day, end=\".\")\n",
    "print(now.hour, end=\":\")\n",
    "print(now.minute, end=\":\")\n",
    "print(now.second)\n",
    "print()\n",
    "print(now)\n",
    "\n",
    "after = now + datetime.timedelta(days=1,hours=1,minutes=1)\n",
    "print(after.strftime('%Y.%m.%d.%H:%M'))\n",
    "\n",
    "output = now.replace(year=(now.year+1))\n",
    "print(output)\n",
    "\n",
    "import time\n",
    "for i in range(5):\n",
    "    print(i)\n",
    "    time.sleep(1)\n",
    "print('프로그램 종료')"
   ]
  },
  {
   "cell_type": "code",
   "execution_count": 144,
   "metadata": {},
   "outputs": [
    {
     "name": "stdout",
     "output_type": "stream",
     "text": [
      "<class 'bytes'>\n"
     ]
    }
   ],
   "source": [
    "from urllib import request\n",
    "target = request.urlopen('https://www.google.com')\n",
    "output = target.read()\n",
    "print(type(output))"
   ]
  },
  {
   "cell_type": "code",
   "execution_count": 146,
   "metadata": {},
   "outputs": [
    {
     "name": "stdout",
     "output_type": "stream",
     "text": [
      "Requirement already satisfied: beautifulsoup4 in c:\\users\\choejihye\\anaconda3\\lib\\site-packages (4.9.3)\n",
      "Requirement already satisfied: soupsieve>1.2; python_version >= \"3.0\" in c:\\users\\choejihye\\anaconda3\\lib\\site-packages (from beautifulsoup4) (2.0.1)\n"
     ]
    }
   ],
   "source": [
    "!pip install beautifulsoup4"
   ]
  },
  {
   "cell_type": "code",
   "execution_count": 153,
   "metadata": {},
   "outputs": [
    {
     "name": "stdout",
     "output_type": "stream",
     "text": [
      "Package                            Version\n",
      "---------------------------------- -------------------\n",
      "alabaster                          0.7.12\n",
      "anaconda-client                    1.7.2\n",
      "anaconda-navigator                 1.10.0\n",
      "anaconda-project                   0.8.3\n",
      "argh                               0.26.2\n",
      "argon2-cffi                        20.1.0\n",
      "asn1crypto                         1.4.0\n",
      "astroid                            2.4.2\n",
      "astropy                            4.0.2\n",
      "async-generator                    1.10\n",
      "atomicwrites                       1.4.0\n",
      "attrs                              20.3.0\n",
      "autopep8                           1.5.4\n",
      "Babel                              2.8.1\n",
      "backcall                           0.2.0\n",
      "backports.functools-lru-cache      1.6.1\n",
      "backports.shutil-get-terminal-size 1.0.0\n",
      "backports.tempfile                 1.0\n",
      "backports.weakref                  1.0.post1\n",
      "bcrypt                             3.2.0\n",
      "beautifulsoup4                     4.9.3\n",
      "bitarray                           1.6.1\n",
      "bkcharts                           0.2\n",
      "bleach                             3.2.1\n",
      "bokeh                              2.2.3\n",
      "boto                               2.49.0\n",
      "Bottleneck                         1.3.2\n",
      "brotlipy                           0.7.0\n",
      "certifi                            2020.6.20\n",
      "cffi                               1.14.3\n",
      "chardet                            3.0.4\n",
      "click                              7.1.2\n",
      "cloudpickle                        1.6.0\n",
      "clyent                             1.2.2\n",
      "colorama                           0.4.4\n",
      "comtypes                           1.1.7\n",
      "conda                              4.9.2\n",
      "conda-build                        3.20.5\n",
      "conda-package-handling             1.7.2\n",
      "conda-verify                       3.4.2\n",
      "contextlib2                        0.6.0.post1\n",
      "cryptography                       3.1.1\n",
      "cycler                             0.10.0\n",
      "Cython                             0.29.21\n",
      "cytoolz                            0.11.0\n",
      "dask                               2.30.0\n",
      "decorator                          4.4.2\n",
      "defusedxml                         0.6.0\n",
      "diff-match-patch                   20200713\n",
      "distributed                        2.30.1\n",
      "docutils                           0.16\n",
      "entrypoints                        0.3\n",
      "et-xmlfile                         1.0.1\n",
      "fastcache                          1.1.0\n",
      "filelock                           3.0.12\n",
      "flake8                             3.8.4\n",
      "Flask                              1.1.2\n",
      "fsspec                             0.8.3\n",
      "future                             0.18.2\n",
      "gevent                             20.9.0\n",
      "glob2                              0.7\n",
      "greenlet                           0.4.17\n",
      "h5py                               2.10.0\n",
      "HeapDict                           1.0.1\n",
      "html5lib                           1.1\n",
      "idna                               2.10\n",
      "imageio                            2.9.0\n",
      "imagesize                          1.2.0\n",
      "importlib-metadata                 2.0.0\n",
      "iniconfig                          1.1.1\n",
      "intervaltree                       3.1.0\n",
      "ipykernel                          5.3.4\n",
      "ipython                            7.19.0\n",
      "ipython-genutils                   0.2.0\n",
      "ipywidgets                         7.5.1\n",
      "isort                              5.6.4\n",
      "itsdangerous                       1.1.0\n",
      "jdcal                              1.4.1\n",
      "jedi                               0.17.1\n",
      "Jinja2                             2.11.2\n",
      "joblib                             0.17.0\n",
      "json5                              0.9.5\n",
      "jsonschema                         3.2.0\n",
      "jupyter                            1.0.0\n",
      "jupyter-client                     6.1.7\n",
      "jupyter-console                    6.2.0\n",
      "jupyter-core                       4.6.3\n",
      "jupyterlab                         2.2.6\n",
      "jupyterlab-pygments                0.1.2\n",
      "jupyterlab-server                  1.2.0\n",
      "keyring                            21.4.0\n",
      "kiwisolver                         1.3.0\n",
      "lazy-object-proxy                  1.4.3\n",
      "libarchive-c                       2.9\n",
      "llvmlite                           0.34.0\n",
      "locket                             0.2.0\n",
      "lxml                               4.6.1\n",
      "MarkupSafe                         1.1.1\n",
      "matplotlib                         3.3.2\n",
      "mccabe                             0.6.1\n",
      "menuinst                           1.4.16\n",
      "mistune                            0.8.4\n",
      "mkl-fft                            1.2.0\n",
      "mkl-random                         1.1.1\n",
      "mkl-service                        2.3.0\n",
      "mock                               4.0.2\n",
      "more-itertools                     8.6.0\n",
      "mpmath                             1.1.0\n",
      "msgpack                            1.0.0\n",
      "multipledispatch                   0.6.0\n",
      "navigator-updater                  0.2.1\n",
      "nbclient                           0.5.1\n",
      "nbconvert                          6.0.7\n",
      "nbformat                           5.0.8\n",
      "nest-asyncio                       1.4.2\n",
      "networkx                           2.5\n",
      "nltk                               3.5\n",
      "nose                               1.3.7\n",
      "notebook                           6.1.4\n",
      "numba                              0.51.2\n",
      "numexpr                            2.7.1\n",
      "numpy                              1.19.2\n",
      "numpydoc                           1.1.0\n",
      "olefile                            0.46\n",
      "openpyxl                           3.0.5\n",
      "packaging                          20.4\n",
      "pandas                             1.1.3\n",
      "pandocfilters                      1.4.3\n",
      "paramiko                           2.7.2\n",
      "parso                              0.7.0\n",
      "partd                              1.1.0\n",
      "path                               15.0.0\n",
      "pathlib2                           2.3.5\n",
      "pathtools                          0.1.2\n",
      "patsy                              0.5.1\n",
      "pep8                               1.7.1\n",
      "pexpect                            4.8.0\n",
      "pickleshare                        0.7.5\n",
      "Pillow                             8.0.1\n",
      "pip                                20.2.4\n",
      "pkginfo                            1.6.1\n",
      "pluggy                             0.13.1\n",
      "ply                                3.11\n",
      "prometheus-client                  0.8.0\n",
      "prompt-toolkit                     3.0.8\n",
      "psutil                             5.7.2\n",
      "py                                 1.9.0\n",
      "pycodestyle                        2.6.0\n",
      "pycosat                            0.6.3\n",
      "pycparser                          2.20\n",
      "pycurl                             7.43.0.6\n",
      "pydocstyle                         5.1.1\n",
      "pyflakes                           2.2.0\n",
      "Pygments                           2.7.2\n",
      "pylint                             2.6.0\n",
      "PyNaCl                             1.4.0\n",
      "pyodbc                             4.0.0-unsupported\n",
      "pyOpenSSL                          19.1.0\n",
      "pyparsing                          2.4.7\n",
      "pyreadline                         2.1\n",
      "pyrsistent                         0.17.3\n",
      "PySocks                            1.7.1\n",
      "pytest                             0.0.0\n",
      "python-dateutil                    2.8.1\n",
      "python-jsonrpc-server              0.4.0\n",
      "python-language-server             0.35.1\n",
      "pytz                               2020.1\n",
      "PyWavelets                         1.1.1\n",
      "pywin32                            227\n",
      "pywin32-ctypes                     0.2.0\n",
      "pywinpty                           0.5.7\n",
      "PyYAML                             5.3.1\n",
      "pyzmq                              19.0.2\n",
      "QDarkStyle                         2.8.1\n",
      "QtAwesome                          1.0.1\n",
      "qtconsole                          4.7.7\n",
      "QtPy                               1.9.0\n",
      "regex                              2020.10.15\n",
      "requests                           2.24.0\n",
      "rope                               0.18.0\n",
      "Rtree                              0.9.4\n",
      "ruamel-yaml                        0.15.87\n",
      "scikit-image                       0.17.2\n",
      "scikit-learn                       0.23.2\n",
      "scipy                              1.5.2\n",
      "seaborn                            0.11.0\n",
      "Send2Trash                         1.5.0\n",
      "setuptools                         50.3.1.post20201107\n",
      "simplegeneric                      0.8.1\n",
      "singledispatch                     3.4.0.3\n",
      "sip                                4.19.13\n",
      "six                                1.15.0\n",
      "snowballstemmer                    2.0.0\n",
      "sortedcollections                  1.2.1\n",
      "sortedcontainers                   2.2.2\n",
      "soupsieve                          2.0.1\n",
      "Sphinx                             3.2.1\n",
      "sphinxcontrib-applehelp            1.0.2\n",
      "sphinxcontrib-devhelp              1.0.2\n",
      "sphinxcontrib-htmlhelp             1.0.3\n",
      "sphinxcontrib-jsmath               1.0.1\n",
      "sphinxcontrib-qthelp               1.0.3\n",
      "sphinxcontrib-serializinghtml      1.1.4\n",
      "sphinxcontrib-websupport           1.2.4\n",
      "spyder                             4.1.5\n",
      "spyder-kernels                     1.9.4\n",
      "SQLAlchemy                         1.3.20\n",
      "statsmodels                        0.12.0\n",
      "sympy                              1.6.2\n",
      "tables                             3.6.1\n",
      "tblib                              1.7.0\n",
      "terminado                          0.9.1\n",
      "testpath                           0.4.4\n",
      "threadpoolctl                      2.1.0\n",
      "tifffile                           2020.10.1\n",
      "toml                               0.10.1\n",
      "toolz                              0.11.1\n",
      "tornado                            6.0.4\n",
      "tqdm                               4.50.2\n",
      "traitlets                          5.0.5\n",
      "typing-extensions                  3.7.4.3\n",
      "ujson                              4.0.1\n",
      "unicodecsv                         0.14.1\n",
      "urllib3                            1.25.11\n",
      "watchdog                           0.10.3\n",
      "wcwidth                            0.2.5\n",
      "webencodings                       0.5.1\n",
      "Werkzeug                           1.0.1\n",
      "wheel                              0.35.1\n",
      "widgetsnbextension                 3.5.1\n",
      "win-inet-pton                      1.1.0\n",
      "win-unicode-console                0.5\n",
      "wincertstore                       0.2\n",
      "wrapt                              1.11.2\n",
      "xlrd                               1.2.0\n",
      "XlsxWriter                         1.3.7\n",
      "xlwings                            0.20.8\n",
      "xlwt                               1.3.0\n",
      "xmltodict                          0.12.0\n",
      "yapf                               0.30.0\n",
      "zict                               2.0.0\n",
      "zipp                               3.4.0\n",
      "zope.event                         4.5.0\n",
      "zope.interface                     5.1.2\n"
     ]
    }
   ],
   "source": [
    "!pip list #설치된 패키지 출력"
   ]
  },
  {
   "cell_type": "code",
   "execution_count": 161,
   "metadata": {},
   "outputs": [
    {
     "ename": "AttributeError",
     "evalue": "'builtin_function_or_method' object has no attribute 'execute'",
     "output_type": "error",
     "traceback": [
      "\u001b[1;31m---------------------------------------------------------------------------\u001b[0m",
      "\u001b[1;31mAttributeError\u001b[0m                            Traceback (most recent call last)",
      "\u001b[1;32m<ipython-input-161-10bba3cad99a>\u001b[0m in \u001b[0;36m<module>\u001b[1;34m\u001b[0m\n\u001b[0;32m     10\u001b[0m \u001b[0msql_select\u001b[0m \u001b[1;33m=\u001b[0m \u001b[1;34m'select * from usertable'\u001b[0m\u001b[1;33m\u001b[0m\u001b[1;33m\u001b[0m\u001b[0m\n\u001b[0;32m     11\u001b[0m \u001b[1;33m\u001b[0m\u001b[0m\n\u001b[1;32m---> 12\u001b[1;33m \u001b[0mcur\u001b[0m\u001b[1;33m.\u001b[0m\u001b[0mexecute\u001b[0m\u001b[1;33m(\u001b[0m\u001b[0msql_select\u001b[0m\u001b[1;33m)\u001b[0m\u001b[1;33m\u001b[0m\u001b[1;33m\u001b[0m\u001b[0m\n\u001b[0m\u001b[0;32m     13\u001b[0m \u001b[1;33m\u001b[0m\u001b[0m\n\u001b[0;32m     14\u001b[0m \u001b[0mprint\u001b[0m\u001b[1;33m(\u001b[0m\u001b[1;34m'아이디\\t이름\\t이메일\\t생일'\u001b[0m\u001b[1;33m)\u001b[0m\u001b[1;33m\u001b[0m\u001b[1;33m\u001b[0m\u001b[0m\n",
      "\u001b[1;31mAttributeError\u001b[0m: 'builtin_function_or_method' object has no attribute 'execute'"
     ]
    }
   ],
   "source": [
    "import sqlite3\n",
    "\n",
    "#DB 연결\n",
    "con = sqlite3.connect('sample')\n",
    "\n",
    "#커서 생성\n",
    "cur = con.cursor\n",
    "\n",
    "#SQL\n",
    "sql_select = 'select * from usertable'\n",
    "\n",
    "cur.execute(sql_select)\n",
    "           \n",
    "print('아이디\\t이름\\t이메일\\t생일')\n",
    "print('--------------------------')\n",
    "while True:\n",
    "    #커서의 한줄을 가져오는 함수 : 가져올 행이 없으면 None\n",
    "    row = cur.fetchone()\n",
    "    if row==None:\n",
    "        break\n",
    "    print('{}\\t{}\\t{}\\t{}\\t'.format(row[0],row[1],row[2],row[3]))\n",
    "con.close() ##오류있다"
   ]
  },
  {
   "cell_type": "code",
   "execution_count": 175,
   "metadata": {},
   "outputs": [
    {
     "ename": "SyntaxError",
     "evalue": "invalid syntax (<ipython-input-175-28d1405426a2>, line 14)",
     "output_type": "error",
     "traceback": [
      "\u001b[1;36m  File \u001b[1;32m\"<ipython-input-175-28d1405426a2>\"\u001b[1;36m, line \u001b[1;32m14\u001b[0m\n\u001b[1;33m    cur.execite(sql_insert)\u001b[0m\n\u001b[1;37m    ^\u001b[0m\n\u001b[1;31mSyntaxError\u001b[0m\u001b[1;31m:\u001b[0m invalid syntax\n"
     ]
    }
   ],
   "source": [
    "import sqlite3\n",
    "\n",
    "# DB 연결\n",
    "con = splite3.connect('sample')\n",
    "cur = con.cursor()\n",
    "\n",
    "user_id = input('아이디를 입력해주세요.>>')\n",
    "user_name = input('이름 입력해주세요>>')\n",
    "user_email = input('이메일을 입력해주세요.>>')\n",
    "user_birth_year = input('태어난 년도를 입력하세요>>')\n",
    "\n",
    "#sql\n",
    "slq_insert  = 'insert into usertable values(\\'{}\\',\\'{}\\',\\'{}\\',{})'.format(user_id,user_name,user_email,user_birth_year\n",
    "cur.execite(sql_insert)\n",
    "\n",
    "com.commit()\n",
    "con.close()"
   ]
  },
  {
   "cell_type": "code",
   "execution_count": 166,
   "metadata": {},
   "outputs": [
    {
     "name": "stdout",
     "output_type": "stream",
     "text": [
      "Requirement already satisfied: PyMySql in c:\\users\\choejihye\\anaconda3\\lib\\site-packages (1.0.2)\n"
     ]
    }
   ],
   "source": [
    "!pip install PyMySql"
   ]
  },
  {
   "cell_type": "code",
   "execution_count": 168,
   "metadata": {},
   "outputs": [
    {
     "name": "stdout",
     "output_type": "stream",
     "text": [
      "Name: PyMySQL\n",
      "Version: 1.0.2\n",
      "Summary: Pure Python MySQL Driver\n",
      "Home-page: https://github.com/PyMySQL/PyMySQL/\n",
      "Author: yutaka.matsubara\n",
      "Author-email: yutaka.matsubara@gmail.com\n",
      "License: \"MIT\"\n",
      "Location: c:\\users\\choejihye\\anaconda3\\lib\\site-packages\n",
      "Requires: \n",
      "Required-by: \n"
     ]
    }
   ],
   "source": [
    "!pip show PyMySql"
   ]
  },
  {
   "cell_type": "code",
   "execution_count": 174,
   "metadata": {},
   "outputs": [
    {
     "name": "stdout",
     "output_type": "stream",
     "text": [
      "(6, 'jh@n', '1234', 'ddd', 'default.png', datetime.datetime(2020, 12, 21, 16, 46, 15), None, 'N')\n",
      "(9, '123@na', '123', '123', 'default.png', datetime.datetime(2020, 12, 21, 16, 47, 6), None, 'N')\n",
      "(10, 'dd@nn', '1234', 'sss', 'default.png', datetime.datetime(2020, 12, 23, 12, 24, 7), None, 'N')\n",
      "(11, 'ho4@na', '1234', 'sss', None, datetime.datetime(2020, 12, 24, 15, 40, 7), None, 'N')\n",
      "(12, '11@111', '1111', '11111', None, datetime.datetime(2020, 12, 24, 15, 44, 27), None, 'N')\n",
      "(13, '11@11', '11', '11', '197123308432900', datetime.datetime(2020, 12, 24, 15, 53, 46), None, 'N')\n",
      "(14, '111@111', '111', '111', '197467020454700', datetime.datetime(2020, 12, 24, 15, 59, 30), None, 'N')\n",
      "(15, '1111@11', '111', '111', '197631073690800', datetime.datetime(2020, 12, 24, 16, 2, 14), None, 'N')\n",
      "(19, '11@1111', '11', '11', '299156158392300.jpg', datetime.datetime(2020, 12, 25, 20, 14, 18), None, 'N')\n",
      "(20, '12@12', '12', '12', '620395869859000.jpg', datetime.datetime(2020, 12, 29, 13, 28, 11), None, 'N')\n",
      "(21, '33', '33', '33', 'default.png', datetime.datetime(2021, 1, 11, 15, 46, 12), None, 'N')\n",
      "(22, 'test@1', '1', '123', 'default.png', datetime.datetime(2021, 1, 11, 15, 52, 10), None, 'N')\n",
      "(24, 'test@11234', '1234', '1234', 'default.png', datetime.datetime(2021, 1, 12, 17, 0, 49), None, 'N')\n",
      "(25, 'jh@nn1', 'jh', 'jh', 'jh@nn11610518467659', datetime.datetime(2021, 1, 13, 15, 14, 28), None, 'N')\n",
      "(26, '11@11112', '11', '11', '11@111121610519989105', datetime.datetime(2021, 1, 13, 15, 39, 49), None, 'N')\n",
      "(28, 'jh@nn123', '1234', '1234', 'jh@nn1231610540941642', datetime.datetime(2021, 1, 13, 21, 29, 2), None, 'N')\n",
      "(30, 'test@123', '1234', '123', 'test@1231610682654456', datetime.datetime(2021, 1, 15, 12, 50, 24), None, 'N')\n",
      "(31, '1123@1223', '1123', '1123', '1123@12231610683178962', datetime.datetime(2021, 1, 15, 12, 59, 39), None, 'N')\n",
      "(32, '11234@11234', '11234', '11234', None, datetime.datetime(2021, 1, 15, 13, 0, 5), None, 'N')\n",
      "(33, '1133@11', '1133', '1133', 'default.png', datetime.datetime(2021, 1, 15, 13, 9, 40), None, 'N')\n",
      "(44, 'www', 'www', 'www', 'default.png', datetime.datetime(2021, 1, 20, 12, 45, 51), None, 'N')\n",
      "(48, '33@11', '33', '33', 'default.png', datetime.datetime(2021, 1, 20, 13, 15, 36), None, 'N')\n",
      "(51, '33@wwew', 'wewew', '22', 'default.png', datetime.datetime(2021, 1, 20, 13, 18, 50), None, 'N')\n",
      "(52, '33@333', '33', '33', 'default.png', datetime.datetime(2021, 1, 20, 15, 4, 12), None, 'N')\n",
      "(53, '1235@qw', 'qwer', 'qwer', 'default.png', datetime.datetime(2021, 1, 20, 15, 4, 51), None, 'N')\n",
      "(56, '33@qqq', 'qqqq', 'qqqq', 'default.png', datetime.datetime(2021, 1, 20, 15, 32, 12), None, 'N')\n",
      "(58, 'test@1123', 'wew', 'weweq', 'default.png', datetime.datetime(2021, 1, 20, 15, 33, 59), None, 'N')\n",
      "(59, 'test@1456', '1234', '1234', 'default.png', datetime.datetime(2021, 1, 21, 21, 29, 41), None, 'N')\n",
      "(60, 'test@1322', '234', '323', 'default.png', datetime.datetime(2021, 1, 21, 21, 35, 55), None, 'N')\n",
      "(61, 'test123123', '1111', 'test', 'default.png', datetime.datetime(2021, 1, 22, 12, 3, 6), None, 'N')\n",
      "(63, 'tes\\tT\\t54321', '650BB65327B7136CD3B69C196B2CD927', '3D6C97E8A204E240E7265DF573F59B04', 'default.png', datetime.datetime(2021, 1, 22, 12, 10, 37), None, 'N')\n",
      "(64, '11@1112', '11', '11', 'default.png', datetime.datetime(2021, 1, 25, 11, 47, 2), None, 'N')\n",
      "(65, '11@116', '', '', 'default.png', datetime.datetime(2021, 1, 25, 11, 48, 36), None, 'N')\n",
      "(66, '11@1155', '', '', 'default.png', datetime.datetime(2021, 1, 25, 11, 50, 7), None, 'N')\n",
      "(75, 'sss@ewewe343', '2342', '2343', 'default.png', datetime.datetime(2021, 1, 31, 22, 56, 5), 'g59e28ivs6', 'N')\n",
      "(76, 'sss@ewewed', 'ddd', 'ddd', 'sss@ewewed1612102053962', datetime.datetime(2021, 1, 31, 23, 7, 34), 'h5478209dp', 'N')\n",
      "(80, 'dfds1', 'dfdfd', 'fdfd', 'dfds11612102175050', datetime.datetime(2021, 1, 31, 23, 9, 35), 'vh4c96110q', 'N')\n"
     ]
    }
   ],
   "source": [
    "import pymysql\n",
    "project_db = pymysql.connect(host='127.0.0.1',db='open',user='aia', passwd='aia',charset='utf8')\n",
    "cursor1 = project_db.cursor()\n",
    "sql_select = 'select * from member'\n",
    "cursor1.execute(sql_select)\n",
    "while True:\n",
    "    row = cursor1.fetchone()\n",
    "    if row ==None:\n",
    "        break\n",
    "    print(row)\n",
    "project_db.close()"
   ]
  },
  {
   "cell_type": "code",
   "execution_count": null,
   "metadata": {},
   "outputs": [],
   "source": []
  }
 ],
 "metadata": {
  "kernelspec": {
   "display_name": "Python 3",
   "language": "python",
   "name": "python3"
  },
  "language_info": {
   "codemirror_mode": {
    "name": "ipython",
    "version": 3
   },
   "file_extension": ".py",
   "mimetype": "text/x-python",
   "name": "python",
   "nbconvert_exporter": "python",
   "pygments_lexer": "ipython3",
   "version": "3.8.5"
  }
 },
 "nbformat": 4,
 "nbformat_minor": 4
}
